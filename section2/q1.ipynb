{
 "cells": [
  {
   "cell_type": "markdown",
   "metadata": {},
   "source": [
    "# 問題\n",
    "\n",
    "`sensor_data_200.txt`の赤外線測距センサ（書籍で光センサと言っているもの）の値について、次の項目をやってみましょう。\n",
    "\n",
    "* ヒストグラムを描く（区間の幅はお任せします。）\n",
    "* 平均値、不偏分散、標準偏差、最頻値、中央値を求める"
   ]
  },
  {
   "cell_type": "code",
   "execution_count": 1,
   "metadata": {},
   "outputs": [],
   "source": [
    "import pandas as pd  \n",
    "data  = pd.read_csv(\"sensor_data_200.txt\", delimiter=\" \", \n",
    "                    header=None, names = (\"date\",\"time\",\"ir\",\"lidar\")) #irが光センサの値"
   ]
  },
  {
   "cell_type": "code",
   "execution_count": 2,
   "metadata": {},
   "outputs": [
    {
     "name": "stdout",
     "output_type": "stream",
     "text": [
      "0    305\n",
      "1    299\n",
      "2    292\n",
      "3    321\n",
      "4    298\n",
      "Name: ir, dtype: int64\n"
     ]
    }
   ],
   "source": [
    "print(data[\"ir\"][0:5])"
   ]
  }
 ],
 "metadata": {
  "kernelspec": {
   "display_name": "Python 3",
   "language": "python",
   "name": "python3"
  },
  "language_info": {
   "codemirror_mode": {
    "name": "ipython",
    "version": 3
   },
   "file_extension": ".py",
   "mimetype": "text/x-python",
   "name": "python",
   "nbconvert_exporter": "python",
   "pygments_lexer": "ipython3",
   "version": "3.8.2"
  }
 },
 "nbformat": 4,
 "nbformat_minor": 2
}
